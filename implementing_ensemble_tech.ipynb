{
 "cells": [
  {
   "cell_type": "code",
   "execution_count": 9,
   "metadata": {},
   "outputs": [],
   "source": [
    "#setting up environment\n",
    "\n",
    "# %pip install scikit-learn\n",
    "# %pip install pandas\n",
    "# %pip install matplotlib seaborn"
   ]
  },
  {
   "cell_type": "code",
   "execution_count": 23,
   "metadata": {},
   "outputs": [
    {
     "name": "stdout",
     "output_type": "stream",
     "text": [
      "(150001, 55)\n",
      "Total Rows: 150001\n",
      "Total Columns: 55\n"
     ]
    }
   ],
   "source": [
    "# understanding the data\n",
    "import pandas as pd\n",
    "\n",
    "\n",
    "t_data = pd.read_csv(\"telecom_data.csv\")\n",
    "\n",
    "print(t_data.shape)\n",
    "print(\"Total Rows: \"+str(t_data.shape[0]))\n",
    "print(\"Total Columns: \"+str(t_data.shape[1]))\n"
   ]
  }
 ],
 "metadata": {
  "kernelspec": {
   "display_name": "Python 3",
   "language": "python",
   "name": "python3"
  },
  "language_info": {
   "codemirror_mode": {
    "name": "ipython",
    "version": 3
   },
   "file_extension": ".py",
   "mimetype": "text/x-python",
   "name": "python",
   "nbconvert_exporter": "python",
   "pygments_lexer": "ipython3",
   "version": "3.11.7"
  }
 },
 "nbformat": 4,
 "nbformat_minor": 2
}
